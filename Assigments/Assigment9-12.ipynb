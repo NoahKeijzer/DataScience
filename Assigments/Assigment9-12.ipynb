{
 "cells": [
  {
   "cell_type": "code",
   "execution_count": 1,
   "id": "b8a8b56e-c58a-4f09-8663-aea76d3b23ea",
   "metadata": {},
   "outputs": [],
   "source": [
    "import pandas as pd\n",
    "import seaborn as sns"
   ]
  },
  {
   "cell_type": "code",
   "execution_count": 2,
   "id": "474e86f8-01a0-4538-a25e-1dbd06aa7e0b",
   "metadata": {},
   "outputs": [],
   "source": [
    "penguins = sns.load_dataset(\"penguins\")\n",
    "PremStats = pd.read_csv(\"../data/EPL_20_21.csv\")"
   ]
  },
  {
   "cell_type": "code",
   "execution_count": 3,
   "id": "195ead7f-3ace-4e90-803a-a318086e791e",
   "metadata": {},
   "outputs": [
    {
     "data": {
      "text/html": [
       "<div>\n",
       "<style scoped>\n",
       "    .dataframe tbody tr th:only-of-type {\n",
       "        vertical-align: middle;\n",
       "    }\n",
       "\n",
       "    .dataframe tbody tr th {\n",
       "        vertical-align: top;\n",
       "    }\n",
       "\n",
       "    .dataframe thead th {\n",
       "        text-align: right;\n",
       "    }\n",
       "</style>\n",
       "<table border=\"1\" class=\"dataframe\">\n",
       "  <thead>\n",
       "    <tr style=\"text-align: right;\">\n",
       "      <th></th>\n",
       "      <th>species</th>\n",
       "      <th>island</th>\n",
       "      <th>bill_length_mm</th>\n",
       "      <th>bill_depth_mm</th>\n",
       "      <th>flipper_length_mm</th>\n",
       "      <th>body_mass_g</th>\n",
       "      <th>sex</th>\n",
       "    </tr>\n",
       "  </thead>\n",
       "  <tbody>\n",
       "    <tr>\n",
       "      <th>0</th>\n",
       "      <td>Adelie</td>\n",
       "      <td>Torgersen</td>\n",
       "      <td>39.1</td>\n",
       "      <td>18.7</td>\n",
       "      <td>181.0</td>\n",
       "      <td>3750.0</td>\n",
       "      <td>Male</td>\n",
       "    </tr>\n",
       "    <tr>\n",
       "      <th>1</th>\n",
       "      <td>Adelie</td>\n",
       "      <td>Torgersen</td>\n",
       "      <td>39.5</td>\n",
       "      <td>17.4</td>\n",
       "      <td>186.0</td>\n",
       "      <td>3800.0</td>\n",
       "      <td>Female</td>\n",
       "    </tr>\n",
       "    <tr>\n",
       "      <th>2</th>\n",
       "      <td>Adelie</td>\n",
       "      <td>Torgersen</td>\n",
       "      <td>40.3</td>\n",
       "      <td>18.0</td>\n",
       "      <td>195.0</td>\n",
       "      <td>3250.0</td>\n",
       "      <td>Female</td>\n",
       "    </tr>\n",
       "    <tr>\n",
       "      <th>3</th>\n",
       "      <td>Adelie</td>\n",
       "      <td>Torgersen</td>\n",
       "      <td>NaN</td>\n",
       "      <td>NaN</td>\n",
       "      <td>NaN</td>\n",
       "      <td>NaN</td>\n",
       "      <td>NaN</td>\n",
       "    </tr>\n",
       "    <tr>\n",
       "      <th>4</th>\n",
       "      <td>Adelie</td>\n",
       "      <td>Torgersen</td>\n",
       "      <td>36.7</td>\n",
       "      <td>19.3</td>\n",
       "      <td>193.0</td>\n",
       "      <td>3450.0</td>\n",
       "      <td>Female</td>\n",
       "    </tr>\n",
       "  </tbody>\n",
       "</table>\n",
       "</div>"
      ],
      "text/plain": [
       "  species     island  bill_length_mm  bill_depth_mm  flipper_length_mm  \\\n",
       "0  Adelie  Torgersen            39.1           18.7              181.0   \n",
       "1  Adelie  Torgersen            39.5           17.4              186.0   \n",
       "2  Adelie  Torgersen            40.3           18.0              195.0   \n",
       "3  Adelie  Torgersen             NaN            NaN                NaN   \n",
       "4  Adelie  Torgersen            36.7           19.3              193.0   \n",
       "\n",
       "   body_mass_g     sex  \n",
       "0       3750.0    Male  \n",
       "1       3800.0  Female  \n",
       "2       3250.0  Female  \n",
       "3          NaN     NaN  \n",
       "4       3450.0  Female  "
      ]
     },
     "execution_count": 3,
     "metadata": {},
     "output_type": "execute_result"
    }
   ],
   "source": [
    "penguins.head()"
   ]
  },
  {
   "cell_type": "markdown",
   "id": "4bb3c00c-6999-4ef5-a8e3-178c1ade0fea",
   "metadata": {},
   "source": [
    "Ik denk dat er een verband is tussen de flipper length en de bill length"
   ]
  },
  {
   "cell_type": "code",
   "execution_count": 4,
   "id": "47e53d21-e94a-4d79-bf4b-350be621da90",
   "metadata": {},
   "outputs": [
    {
     "data": {
      "text/html": [
       "<div>\n",
       "<style scoped>\n",
       "    .dataframe tbody tr th:only-of-type {\n",
       "        vertical-align: middle;\n",
       "    }\n",
       "\n",
       "    .dataframe tbody tr th {\n",
       "        vertical-align: top;\n",
       "    }\n",
       "\n",
       "    .dataframe thead th {\n",
       "        text-align: right;\n",
       "    }\n",
       "</style>\n",
       "<table border=\"1\" class=\"dataframe\">\n",
       "  <thead>\n",
       "    <tr style=\"text-align: right;\">\n",
       "      <th></th>\n",
       "      <th>flipper_length_mm</th>\n",
       "      <th>bill_length_mm</th>\n",
       "    </tr>\n",
       "  </thead>\n",
       "  <tbody>\n",
       "    <tr>\n",
       "      <th>flipper_length_mm</th>\n",
       "      <td>1.000000</td>\n",
       "      <td>0.656181</td>\n",
       "    </tr>\n",
       "    <tr>\n",
       "      <th>bill_length_mm</th>\n",
       "      <td>0.656181</td>\n",
       "      <td>1.000000</td>\n",
       "    </tr>\n",
       "  </tbody>\n",
       "</table>\n",
       "</div>"
      ],
      "text/plain": [
       "                   flipper_length_mm  bill_length_mm\n",
       "flipper_length_mm           1.000000        0.656181\n",
       "bill_length_mm              0.656181        1.000000"
      ]
     },
     "execution_count": 4,
     "metadata": {},
     "output_type": "execute_result"
    }
   ],
   "source": [
    "penguins[['flipper_length_mm', 'bill_length_mm']].corr()"
   ]
  },
  {
   "cell_type": "code",
   "execution_count": 5,
   "id": "6d13e136-3e3c-4c1a-a7a5-1150f3c235a6",
   "metadata": {},
   "outputs": [
    {
     "data": {
      "text/html": [
       "<div>\n",
       "<style scoped>\n",
       "    .dataframe tbody tr th:only-of-type {\n",
       "        vertical-align: middle;\n",
       "    }\n",
       "\n",
       "    .dataframe tbody tr th {\n",
       "        vertical-align: top;\n",
       "    }\n",
       "\n",
       "    .dataframe thead th {\n",
       "        text-align: right;\n",
       "    }\n",
       "</style>\n",
       "<table border=\"1\" class=\"dataframe\">\n",
       "  <thead>\n",
       "    <tr style=\"text-align: right;\">\n",
       "      <th></th>\n",
       "      <th>bill_length_mm</th>\n",
       "      <th>bill_depth_mm</th>\n",
       "      <th>flipper_length_mm</th>\n",
       "      <th>body_mass_g</th>\n",
       "    </tr>\n",
       "  </thead>\n",
       "  <tbody>\n",
       "    <tr>\n",
       "      <th>bill_length_mm</th>\n",
       "      <td>1.000000</td>\n",
       "      <td>-0.235053</td>\n",
       "      <td>0.656181</td>\n",
       "      <td>0.595110</td>\n",
       "    </tr>\n",
       "    <tr>\n",
       "      <th>bill_depth_mm</th>\n",
       "      <td>-0.235053</td>\n",
       "      <td>1.000000</td>\n",
       "      <td>-0.583851</td>\n",
       "      <td>-0.471916</td>\n",
       "    </tr>\n",
       "    <tr>\n",
       "      <th>flipper_length_mm</th>\n",
       "      <td>0.656181</td>\n",
       "      <td>-0.583851</td>\n",
       "      <td>1.000000</td>\n",
       "      <td>0.871202</td>\n",
       "    </tr>\n",
       "    <tr>\n",
       "      <th>body_mass_g</th>\n",
       "      <td>0.595110</td>\n",
       "      <td>-0.471916</td>\n",
       "      <td>0.871202</td>\n",
       "      <td>1.000000</td>\n",
       "    </tr>\n",
       "  </tbody>\n",
       "</table>\n",
       "</div>"
      ],
      "text/plain": [
       "                   bill_length_mm  bill_depth_mm  flipper_length_mm  \\\n",
       "bill_length_mm           1.000000      -0.235053           0.656181   \n",
       "bill_depth_mm           -0.235053       1.000000          -0.583851   \n",
       "flipper_length_mm        0.656181      -0.583851           1.000000   \n",
       "body_mass_g              0.595110      -0.471916           0.871202   \n",
       "\n",
       "                   body_mass_g  \n",
       "bill_length_mm        0.595110  \n",
       "bill_depth_mm        -0.471916  \n",
       "flipper_length_mm     0.871202  \n",
       "body_mass_g           1.000000  "
      ]
     },
     "execution_count": 5,
     "metadata": {},
     "output_type": "execute_result"
    }
   ],
   "source": [
    "penguins.corr()"
   ]
  },
  {
   "cell_type": "markdown",
   "id": "cddc2f25-db86-478d-a423-c18cf890c1da",
   "metadata": {},
   "source": [
    "Er zit een grotere correlatie tussen de body mass en de flipper length. Dit heeft denk te maken met hoe groter de penguin hoe groter de flipper en ook hoe zwaarder dus."
   ]
  },
  {
   "cell_type": "code",
   "execution_count": 6,
   "id": "b57dcf98-b3c8-48e5-a359-fc3ecb60968e",
   "metadata": {},
   "outputs": [
    {
     "data": {
      "text/plain": [
       "<AxesSubplot:xlabel='flipper_length_mm', ylabel='body_mass_g'>"
      ]
     },
     "execution_count": 6,
     "metadata": {},
     "output_type": "execute_result"
    },
    {
     "data": {
      "image/png": "[encoded data removed]",
      "text/plain": [
       "<Figure size 432x288 with 1 Axes>"
      ]
     },
     "metadata": {
      "needs_background": "light"
     },
     "output_type": "display_data"
    }
   ],
   "source": [
    "penguins.plot(kind=\"scatter\", x=\"flipper_length_mm\", y=\"body_mass_g\")"
   ]
  },
  {
   "cell_type": "markdown",
   "id": "16e86414-aa38-421b-b081-c27740134ac1",
   "metadata": {},
   "source": [
    "Dit is de scatterplot van de eigenschappen met de meeste correlatie"
   ]
  },
  {
   "cell_type": "code",
   "execution_count": 7,
   "id": "99f43e77-b58d-4859-9267-b190050b070d",
   "metadata": {},
   "outputs": [
    {
     "data": {
      "text/plain": [
       "<AxesSubplot:xlabel='flipper_length_mm', ylabel='bill_depth_mm'>"
      ]
     },
     "execution_count": 7,
     "metadata": {},
     "output_type": "execute_result"
    },
    {
     "data": {
      "image/png": "[encoded data removed]",
      "text/plain": [
       "<Figure size 432x288 with 1 Axes>"
      ]
     },
     "metadata": {
      "needs_background": "light"
     },
     "output_type": "display_data"
    }
   ],
   "source": [
    "penguins.plot(kind=\"scatter\", x=\"flipper_length_mm\", y=\"bill_depth_mm\")"
   ]
  },
  {
   "cell_type": "markdown",
   "id": "e0a6a7d1-abfe-4b90-b2f5-b05358f077f6",
   "metadata": {},
   "source": [
    "En dit de sterkste negative hier zie je duidelijk 2 groepen dus mischien heeft dit wel iets te maken met bijvoorbeeld de soort"
   ]
  },
  {
   "cell_type": "code",
   "execution_count": 8,
   "id": "aac5cb58-875b-445f-b3c4-58ac0b882d11",
   "metadata": {},
   "outputs": [
    {
     "data": {
      "text/plain": [
       "<AxesSubplot:xlabel='bill_length_mm', ylabel='body_mass_g'>"
      ]
     },
     "execution_count": 8,
     "metadata": {},
     "output_type": "execute_result"
    },
    {
     "data": {
      "image/png": "[encoded data removed]",
      "text/plain": [
       "<Figure size 432x288 with 1 Axes>"
      ]
     },
     "metadata": {
      "needs_background": "light"
     },
     "output_type": "display_data"
    }
   ],
   "source": [
    "penguins.plot(kind=\"scatter\", x=\"bill_length_mm\", y=\"body_mass_g\")"
   ]
  },
  {
   "cell_type": "markdown",
   "id": "cf950f0c-b94b-4d59-847b-4babadd5d6ed",
   "metadata": {},
   "source": [
    "Dit is het plot met de zwakste correlatie"
   ]
  },
  {
   "cell_type": "markdown",
   "id": "483780c6-55e0-45aa-aafe-9e1a5fe0137d",
   "metadata": {},
   "source": [
    "# Opdracht 10:"
   ]
  },
  {
   "cell_type": "code",
   "execution_count": 9,
   "id": "21757be5-f527-4856-a809-8257178c41b6",
   "metadata": {},
   "outputs": [
    {
     "data": {
      "text/html": [
       "<div>\n",
       "<style scoped>\n",
       "    .dataframe tbody tr th:only-of-type {\n",
       "        vertical-align: middle;\n",
       "    }\n",
       "\n",
       "    .dataframe tbody tr th {\n",
       "        vertical-align: top;\n",
       "    }\n",
       "\n",
       "    .dataframe thead th {\n",
       "        text-align: right;\n",
       "    }\n",
       "</style>\n",
       "<table border=\"1\" class=\"dataframe\">\n",
       "  <thead>\n",
       "    <tr style=\"text-align: right;\">\n",
       "      <th></th>\n",
       "      <th>Name</th>\n",
       "      <th>Club</th>\n",
       "      <th>Nationality</th>\n",
       "      <th>Position</th>\n",
       "      <th>Age</th>\n",
       "      <th>Matches</th>\n",
       "      <th>Starts</th>\n",
       "      <th>Mins</th>\n",
       "      <th>Goals</th>\n",
       "      <th>Assists</th>\n",
       "      <th>Passes_Attempted</th>\n",
       "      <th>Perc_Passes_Completed</th>\n",
       "      <th>Penalty_Goals</th>\n",
       "      <th>Penalty_Attempted</th>\n",
       "      <th>xG</th>\n",
       "      <th>xA</th>\n",
       "      <th>Yellow_Cards</th>\n",
       "      <th>Red_Cards</th>\n",
       "    </tr>\n",
       "  </thead>\n",
       "  <tbody>\n",
       "    <tr>\n",
       "      <th>0</th>\n",
       "      <td>Mason Mount</td>\n",
       "      <td>Chelsea</td>\n",
       "      <td>ENG</td>\n",
       "      <td>MF,FW</td>\n",
       "      <td>21</td>\n",
       "      <td>36</td>\n",
       "      <td>32</td>\n",
       "      <td>2890</td>\n",
       "      <td>6</td>\n",
       "      <td>5</td>\n",
       "      <td>1881</td>\n",
       "      <td>82.3</td>\n",
       "      <td>1</td>\n",
       "      <td>1</td>\n",
       "      <td>0.21</td>\n",
       "      <td>0.24</td>\n",
       "      <td>2</td>\n",
       "      <td>0</td>\n",
       "    </tr>\n",
       "    <tr>\n",
       "      <th>1</th>\n",
       "      <td>Edouard Mendy</td>\n",
       "      <td>Chelsea</td>\n",
       "      <td>SEN</td>\n",
       "      <td>GK</td>\n",
       "      <td>28</td>\n",
       "      <td>31</td>\n",
       "      <td>31</td>\n",
       "      <td>2745</td>\n",
       "      <td>0</td>\n",
       "      <td>0</td>\n",
       "      <td>1007</td>\n",
       "      <td>84.6</td>\n",
       "      <td>0</td>\n",
       "      <td>0</td>\n",
       "      <td>0.00</td>\n",
       "      <td>0.00</td>\n",
       "      <td>2</td>\n",
       "      <td>0</td>\n",
       "    </tr>\n",
       "    <tr>\n",
       "      <th>2</th>\n",
       "      <td>Timo Werner</td>\n",
       "      <td>Chelsea</td>\n",
       "      <td>GER</td>\n",
       "      <td>FW</td>\n",
       "      <td>24</td>\n",
       "      <td>35</td>\n",
       "      <td>29</td>\n",
       "      <td>2602</td>\n",
       "      <td>6</td>\n",
       "      <td>8</td>\n",
       "      <td>826</td>\n",
       "      <td>77.2</td>\n",
       "      <td>0</td>\n",
       "      <td>0</td>\n",
       "      <td>0.41</td>\n",
       "      <td>0.21</td>\n",
       "      <td>2</td>\n",
       "      <td>0</td>\n",
       "    </tr>\n",
       "    <tr>\n",
       "      <th>3</th>\n",
       "      <td>Ben Chilwell</td>\n",
       "      <td>Chelsea</td>\n",
       "      <td>ENG</td>\n",
       "      <td>DF</td>\n",
       "      <td>23</td>\n",
       "      <td>27</td>\n",
       "      <td>27</td>\n",
       "      <td>2286</td>\n",
       "      <td>3</td>\n",
       "      <td>5</td>\n",
       "      <td>1806</td>\n",
       "      <td>78.6</td>\n",
       "      <td>0</td>\n",
       "      <td>0</td>\n",
       "      <td>0.10</td>\n",
       "      <td>0.11</td>\n",
       "      <td>3</td>\n",
       "      <td>0</td>\n",
       "    </tr>\n",
       "    <tr>\n",
       "      <th>4</th>\n",
       "      <td>Reece James</td>\n",
       "      <td>Chelsea</td>\n",
       "      <td>ENG</td>\n",
       "      <td>DF</td>\n",
       "      <td>20</td>\n",
       "      <td>32</td>\n",
       "      <td>25</td>\n",
       "      <td>2373</td>\n",
       "      <td>1</td>\n",
       "      <td>2</td>\n",
       "      <td>1987</td>\n",
       "      <td>85.0</td>\n",
       "      <td>0</td>\n",
       "      <td>0</td>\n",
       "      <td>0.06</td>\n",
       "      <td>0.12</td>\n",
       "      <td>3</td>\n",
       "      <td>0</td>\n",
       "    </tr>\n",
       "  </tbody>\n",
       "</table>\n",
       "</div>"
      ],
      "text/plain": [
       "            Name     Club Nationality Position  Age  Matches  Starts  Mins  \\\n",
       "0    Mason Mount  Chelsea         ENG    MF,FW   21       36      32  2890   \n",
       "1  Edouard Mendy  Chelsea         SEN       GK   28       31      31  2745   \n",
       "2    Timo Werner  Chelsea         GER       FW   24       35      29  2602   \n",
       "3   Ben Chilwell  Chelsea         ENG       DF   23       27      27  2286   \n",
       "4    Reece James  Chelsea         ENG       DF   20       32      25  2373   \n",
       "\n",
       "   Goals  Assists  Passes_Attempted  Perc_Passes_Completed  Penalty_Goals  \\\n",
       "0      6        5              1881                   82.3              1   \n",
       "1      0        0              1007                   84.6              0   \n",
       "2      6        8               826                   77.2              0   \n",
       "3      3        5              1806                   78.6              0   \n",
       "4      1        2              1987                   85.0              0   \n",
       "\n",
       "   Penalty_Attempted    xG    xA  Yellow_Cards  Red_Cards  \n",
       "0                  1  0.21  0.24             2          0  \n",
       "1                  0  0.00  0.00             2          0  \n",
       "2                  0  0.41  0.21             2          0  \n",
       "3                  0  0.10  0.11             3          0  \n",
       "4                  0  0.06  0.12             3          0  "
      ]
     },
     "execution_count": 9,
     "metadata": {},
     "output_type": "execute_result"
    }
   ],
   "source": [
    "PremStats.head()"
   ]
  },
  {
   "cell_type": "markdown",
   "id": "24cfb293-3137-410b-8bc8-85581107bde2",
   "metadata": {
    "tags": []
   },
   "source": [
    "#### Voor mijn eigen dataset verwacht ik de meeste correlatie tussen de Matches en het aantal Mins"
   ]
  },
  {
   "cell_type": "code",
   "execution_count": 10,
   "id": "e97b1179-054c-40c3-8332-c625e6a8f975",
   "metadata": {},
   "outputs": [
    {
     "data": {
      "text/html": [
       "<div>\n",
       "<style scoped>\n",
       "    .dataframe tbody tr th:only-of-type {\n",
       "        vertical-align: middle;\n",
       "    }\n",
       "\n",
       "    .dataframe tbody tr th {\n",
       "        vertical-align: top;\n",
       "    }\n",
       "\n",
       "    .dataframe thead th {\n",
       "        text-align: right;\n",
       "    }\n",
       "</style>\n",
       "<table border=\"1\" class=\"dataframe\">\n",
       "  <thead>\n",
       "    <tr style=\"text-align: right;\">\n",
       "      <th></th>\n",
       "      <th>Age</th>\n",
       "      <th>Matches</th>\n",
       "      <th>Starts</th>\n",
       "      <th>Mins</th>\n",
       "      <th>Goals</th>\n",
       "      <th>Assists</th>\n",
       "      <th>Passes_Attempted</th>\n",
       "      <th>Perc_Passes_Completed</th>\n",
       "      <th>Penalty_Goals</th>\n",
       "      <th>Penalty_Attempted</th>\n",
       "      <th>xG</th>\n",
       "      <th>xA</th>\n",
       "      <th>Yellow_Cards</th>\n",
       "      <th>Red_Cards</th>\n",
       "    </tr>\n",
       "  </thead>\n",
       "  <tbody>\n",
       "    <tr>\n",
       "      <th>Age</th>\n",
       "      <td>1.000000</td>\n",
       "      <td>0.149628</td>\n",
       "      <td>0.156387</td>\n",
       "      <td>0.158643</td>\n",
       "      <td>0.047022</td>\n",
       "      <td>0.026740</td>\n",
       "      <td>0.120244</td>\n",
       "      <td>0.122812</td>\n",
       "      <td>0.084547</td>\n",
       "      <td>0.083328</td>\n",
       "      <td>-0.056098</td>\n",
       "      <td>-0.047849</td>\n",
       "      <td>0.115191</td>\n",
       "      <td>0.065414</td>\n",
       "    </tr>\n",
       "    <tr>\n",
       "      <th>Matches</th>\n",
       "      <td>0.149628</td>\n",
       "      <td>1.000000</td>\n",
       "      <td>0.938116</td>\n",
       "      <td>0.947351</td>\n",
       "      <td>0.441977</td>\n",
       "      <td>0.508009</td>\n",
       "      <td>0.785362</td>\n",
       "      <td>0.085462</td>\n",
       "      <td>0.227929</td>\n",
       "      <td>0.234389</td>\n",
       "      <td>0.192047</td>\n",
       "      <td>0.227570</td>\n",
       "      <td>0.578093</td>\n",
       "      <td>0.168281</td>\n",
       "    </tr>\n",
       "    <tr>\n",
       "      <th>Starts</th>\n",
       "      <td>0.156387</td>\n",
       "      <td>0.938116</td>\n",
       "      <td>1.000000</td>\n",
       "      <td>0.997031</td>\n",
       "      <td>0.405381</td>\n",
       "      <td>0.477704</td>\n",
       "      <td>0.853448</td>\n",
       "      <td>0.086039</td>\n",
       "      <td>0.216877</td>\n",
       "      <td>0.221418</td>\n",
       "      <td>0.072487</td>\n",
       "      <td>0.113446</td>\n",
       "      <td>0.603497</td>\n",
       "      <td>0.195383</td>\n",
       "    </tr>\n",
       "    <tr>\n",
       "      <th>Mins</th>\n",
       "      <td>0.158643</td>\n",
       "      <td>0.947351</td>\n",
       "      <td>0.997031</td>\n",
       "      <td>1.000000</td>\n",
       "      <td>0.400398</td>\n",
       "      <td>0.474677</td>\n",
       "      <td>0.855600</td>\n",
       "      <td>0.085460</td>\n",
       "      <td>0.219027</td>\n",
       "      <td>0.224115</td>\n",
       "      <td>0.075016</td>\n",
       "      <td>0.117602</td>\n",
       "      <td>0.604634</td>\n",
       "      <td>0.193038</td>\n",
       "    </tr>\n",
       "    <tr>\n",
       "      <th>Goals</th>\n",
       "      <td>0.047022</td>\n",
       "      <td>0.441977</td>\n",
       "      <td>0.405381</td>\n",
       "      <td>0.400398</td>\n",
       "      <td>1.000000</td>\n",
       "      <td>0.617831</td>\n",
       "      <td>0.201526</td>\n",
       "      <td>-0.025137</td>\n",
       "      <td>0.594730</td>\n",
       "      <td>0.590492</td>\n",
       "      <td>0.681959</td>\n",
       "      <td>0.348428</td>\n",
       "      <td>0.104413</td>\n",
       "      <td>0.057785</td>\n",
       "    </tr>\n",
       "    <tr>\n",
       "      <th>Assists</th>\n",
       "      <td>0.026740</td>\n",
       "      <td>0.508009</td>\n",
       "      <td>0.477704</td>\n",
       "      <td>0.474677</td>\n",
       "      <td>0.617831</td>\n",
       "      <td>1.000000</td>\n",
       "      <td>0.393906</td>\n",
       "      <td>-0.016645</td>\n",
       "      <td>0.408459</td>\n",
       "      <td>0.411784</td>\n",
       "      <td>0.383358</td>\n",
       "      <td>0.558677</td>\n",
       "      <td>0.213691</td>\n",
       "      <td>-0.020855</td>\n",
       "    </tr>\n",
       "    <tr>\n",
       "      <th>Passes_Attempted</th>\n",
       "      <td>0.120244</td>\n",
       "      <td>0.785362</td>\n",
       "      <td>0.853448</td>\n",
       "      <td>0.855600</td>\n",
       "      <td>0.201526</td>\n",
       "      <td>0.393906</td>\n",
       "      <td>1.000000</td>\n",
       "      <td>0.228393</td>\n",
       "      <td>0.149533</td>\n",
       "      <td>0.157020</td>\n",
       "      <td>-0.092535</td>\n",
       "      <td>0.105132</td>\n",
       "      <td>0.634567</td>\n",
       "      <td>0.208003</td>\n",
       "    </tr>\n",
       "    <tr>\n",
       "      <th>Perc_Passes_Completed</th>\n",
       "      <td>0.122812</td>\n",
       "      <td>0.085462</td>\n",
       "      <td>0.086039</td>\n",
       "      <td>0.085460</td>\n",
       "      <td>-0.025137</td>\n",
       "      <td>-0.016645</td>\n",
       "      <td>0.228393</td>\n",
       "      <td>1.000000</td>\n",
       "      <td>-0.024517</td>\n",
       "      <td>-0.014934</td>\n",
       "      <td>-0.035313</td>\n",
       "      <td>0.047720</td>\n",
       "      <td>0.162451</td>\n",
       "      <td>0.054068</td>\n",
       "    </tr>\n",
       "    <tr>\n",
       "      <th>Penalty_Goals</th>\n",
       "      <td>0.084547</td>\n",
       "      <td>0.227929</td>\n",
       "      <td>0.216877</td>\n",
       "      <td>0.219027</td>\n",
       "      <td>0.594730</td>\n",
       "      <td>0.408459</td>\n",
       "      <td>0.149533</td>\n",
       "      <td>-0.024517</td>\n",
       "      <td>1.000000</td>\n",
       "      <td>0.982176</td>\n",
       "      <td>0.407251</td>\n",
       "      <td>0.205417</td>\n",
       "      <td>0.057846</td>\n",
       "      <td>0.021109</td>\n",
       "    </tr>\n",
       "    <tr>\n",
       "      <th>Penalty_Attempted</th>\n",
       "      <td>0.083328</td>\n",
       "      <td>0.234389</td>\n",
       "      <td>0.221418</td>\n",
       "      <td>0.224115</td>\n",
       "      <td>0.590492</td>\n",
       "      <td>0.411784</td>\n",
       "      <td>0.157020</td>\n",
       "      <td>-0.014934</td>\n",
       "      <td>0.982176</td>\n",
       "      <td>1.000000</td>\n",
       "      <td>0.420159</td>\n",
       "      <td>0.218949</td>\n",
       "      <td>0.063506</td>\n",
       "      <td>0.031073</td>\n",
       "    </tr>\n",
       "    <tr>\n",
       "      <th>xG</th>\n",
       "      <td>-0.056098</td>\n",
       "      <td>0.192047</td>\n",
       "      <td>0.072487</td>\n",
       "      <td>0.075016</td>\n",
       "      <td>0.681959</td>\n",
       "      <td>0.383358</td>\n",
       "      <td>-0.092535</td>\n",
       "      <td>-0.035313</td>\n",
       "      <td>0.407251</td>\n",
       "      <td>0.420159</td>\n",
       "      <td>1.000000</td>\n",
       "      <td>0.346551</td>\n",
       "      <td>-0.094216</td>\n",
       "      <td>-0.021578</td>\n",
       "    </tr>\n",
       "    <tr>\n",
       "      <th>xA</th>\n",
       "      <td>-0.047849</td>\n",
       "      <td>0.227570</td>\n",
       "      <td>0.113446</td>\n",
       "      <td>0.117602</td>\n",
       "      <td>0.348428</td>\n",
       "      <td>0.558677</td>\n",
       "      <td>0.105132</td>\n",
       "      <td>0.047720</td>\n",
       "      <td>0.205417</td>\n",
       "      <td>0.218949</td>\n",
       "      <td>0.346551</td>\n",
       "      <td>1.000000</td>\n",
       "      <td>0.022375</td>\n",
       "      <td>-0.056837</td>\n",
       "    </tr>\n",
       "    <tr>\n",
       "      <th>Yellow_Cards</th>\n",
       "      <td>0.115191</td>\n",
       "      <td>0.578093</td>\n",
       "      <td>0.603497</td>\n",
       "      <td>0.604634</td>\n",
       "      <td>0.104413</td>\n",
       "      <td>0.213691</td>\n",
       "      <td>0.634567</td>\n",
       "      <td>0.162451</td>\n",
       "      <td>0.057846</td>\n",
       "      <td>0.063506</td>\n",
       "      <td>-0.094216</td>\n",
       "      <td>0.022375</td>\n",
       "      <td>1.000000</td>\n",
       "      <td>0.244786</td>\n",
       "    </tr>\n",
       "    <tr>\n",
       "      <th>Red_Cards</th>\n",
       "      <td>0.065414</td>\n",
       "      <td>0.168281</td>\n",
       "      <td>0.195383</td>\n",
       "      <td>0.193038</td>\n",
       "      <td>0.057785</td>\n",
       "      <td>-0.020855</td>\n",
       "      <td>0.208003</td>\n",
       "      <td>0.054068</td>\n",
       "      <td>0.021109</td>\n",
       "      <td>0.031073</td>\n",
       "      <td>-0.021578</td>\n",
       "      <td>-0.056837</td>\n",
       "      <td>0.244786</td>\n",
       "      <td>1.000000</td>\n",
       "    </tr>\n",
       "  </tbody>\n",
       "</table>\n",
       "</div>"
      ],
      "text/plain": [
       "                            Age   Matches    Starts      Mins     Goals  \\\n",
       "Age                    1.000000  0.149628  0.156387  0.158643  0.047022   \n",
       "Matches                0.149628  1.000000  0.938116  0.947351  0.441977   \n",
       "Starts                 0.156387  0.938116  1.000000  0.997031  0.405381   \n",
       "Mins                   0.158643  0.947351  0.997031  1.000000  0.400398   \n",
       "Goals                  0.047022  0.441977  0.405381  0.400398  1.000000   \n",
       "Assists                0.026740  0.508009  0.477704  0.474677  0.617831   \n",
       "Passes_Attempted       0.120244  0.785362  0.853448  0.855600  0.201526   \n",
       "Perc_Passes_Completed  0.122812  0.085462  0.086039  0.085460 -0.025137   \n",
       "Penalty_Goals          0.084547  0.227929  0.216877  0.219027  0.594730   \n",
       "Penalty_Attempted      0.083328  0.234389  0.221418  0.224115  0.590492   \n",
       "xG                    -0.056098  0.192047  0.072487  0.075016  0.681959   \n",
       "xA                    -0.047849  0.227570  0.113446  0.117602  0.348428   \n",
       "Yellow_Cards           0.115191  0.578093  0.603497  0.604634  0.104413   \n",
       "Red_Cards              0.065414  0.168281  0.195383  0.193038  0.057785   \n",
       "\n",
       "                        Assists  Passes_Attempted  Perc_Passes_Completed  \\\n",
       "Age                    0.026740          0.120244               0.122812   \n",
       "Matches                0.508009          0.785362               0.085462   \n",
       "Starts                 0.477704          0.853448               0.086039   \n",
       "Mins                   0.474677          0.855600               0.085460   \n",
       "Goals                  0.617831          0.201526              -0.025137   \n",
       "Assists                1.000000          0.393906              -0.016645   \n",
       "Passes_Attempted       0.393906          1.000000               0.228393   \n",
       "Perc_Passes_Completed -0.016645          0.228393               1.000000   \n",
       "Penalty_Goals          0.408459          0.149533              -0.024517   \n",
       "Penalty_Attempted      0.411784          0.157020              -0.014934   \n",
       "xG                     0.383358         -0.092535              -0.035313   \n",
       "xA                     0.558677          0.105132               0.047720   \n",
       "Yellow_Cards           0.213691          0.634567               0.162451   \n",
       "Red_Cards             -0.020855          0.208003               0.054068   \n",
       "\n",
       "                       Penalty_Goals  Penalty_Attempted        xG        xA  \\\n",
       "Age                         0.084547           0.083328 -0.056098 -0.047849   \n",
       "Matches                     0.227929           0.234389  0.192047  0.227570   \n",
       "Starts                      0.216877           0.221418  0.072487  0.113446   \n",
       "Mins                        0.219027           0.224115  0.075016  0.117602   \n",
       "Goals                       0.594730           0.590492  0.681959  0.348428   \n",
       "Assists                     0.408459           0.411784  0.383358  0.558677   \n",
       "Passes_Attempted            0.149533           0.157020 -0.092535  0.105132   \n",
       "Perc_Passes_Completed      -0.024517          -0.014934 -0.035313  0.047720   \n",
       "Penalty_Goals               1.000000           0.982176  0.407251  0.205417   \n",
       "Penalty_Attempted           0.982176           1.000000  0.420159  0.218949   \n",
       "xG                          0.407251           0.420159  1.000000  0.346551   \n",
       "xA                          0.205417           0.218949  0.346551  1.000000   \n",
       "Yellow_Cards                0.057846           0.063506 -0.094216  0.022375   \n",
       "Red_Cards                   0.021109           0.031073 -0.021578 -0.056837   \n",
       "\n",
       "                       Yellow_Cards  Red_Cards  \n",
       "Age                        0.115191   0.065414  \n",
       "Matches                    0.578093   0.168281  \n",
       "Starts                     0.603497   0.195383  \n",
       "Mins                       0.604634   0.193038  \n",
       "Goals                      0.104413   0.057785  \n",
       "Assists                    0.213691  -0.020855  \n",
       "Passes_Attempted           0.634567   0.208003  \n",
       "Perc_Passes_Completed      0.162451   0.054068  \n",
       "Penalty_Goals              0.057846   0.021109  \n",
       "Penalty_Attempted          0.063506   0.031073  \n",
       "xG                        -0.094216  -0.021578  \n",
       "xA                         0.022375  -0.056837  \n",
       "Yellow_Cards               1.000000   0.244786  \n",
       "Red_Cards                  0.244786   1.000000  "
      ]
     },
     "execution_count": 10,
     "metadata": {},
     "output_type": "execute_result"
    }
   ],
   "source": [
    "PremStats.corr()"
   ]
  },
  {
   "cell_type": "markdown",
   "id": "59f8313e-d451-4a8f-b065-f1421476b0fd",
   "metadata": {},
   "source": [
    "#### Mijn voorgevoel klopte. Ook best logisch aangezien de mins afhankelijk zijn van de matches"
   ]
  },
  {
   "cell_type": "code",
   "execution_count": 11,
   "id": "d06ac015-e0b7-4469-a918-a31414c3bad3",
   "metadata": {},
   "outputs": [
    {
     "data": {
      "text/plain": [
       "<AxesSubplot:xlabel='Mins', ylabel='Matches'>"
      ]
     },
     "execution_count": 11,
     "metadata": {},
     "output_type": "execute_result"
    },
    {
     "data": {
      "image/png": "[encoded data removed]",
      "text/plain": [
       "<Figure size 432x288 with 1 Axes>"
      ]
     },
     "metadata": {
      "needs_background": "light"
     },
     "output_type": "display_data"
    }
   ],
   "source": [
    "PremStats.plot(kind=\"scatter\", x=\"Mins\", y=\"Matches\")"
   ]
  },
  {
   "cell_type": "markdown",
   "id": "2b378611-0f5b-4ead-94d2-711198114ca5",
   "metadata": {},
   "source": [
    "De ondergens komt door dat een wedstrijd maar 90 min is en pas laat in een wedstrijd wordt gewisselt"
   ]
  },
  {
   "cell_type": "markdown",
   "id": "c49d3b12-27bb-4655-ab07-508bd5405673",
   "metadata": {},
   "source": [
    "## Portfolio assignment 11\n",
    "#### 20 min: Do a Numerical VS Categorical bivariate analysis on the penguins dataset.\n",
    "\n",
    "Choose one of the categorical columns: species, island or sex\n",
    " use .groupby('').mean() too look at the means of the numerical columns. Does it look like there is a difference between categories?\n",
    "Use the seaborn barplot to plot the mean and confidence. Create this plot for each of the numerical columns (bill_length_mm bill_depth_mm, flipper_length_mm, body_mass_g)\n",
    "For each of the plots, write a conclusion: Is there a statistically significant difference for this numerical column for each category?\n",
    "Optional: Repeat this proces for the other two categorical columns\n",
    "As seen below the Biscoe island shows values that are off compared to the values on the Dream and Torgersen island."
   ]
  },
  {
   "cell_type": "code",
   "execution_count": 12,
   "id": "d9442cf3-ce05-4d90-a437-841d8ee89ce8",
   "metadata": {},
   "outputs": [
    {
     "data": {
      "text/html": [
       "<div>\n",
       "<style scoped>\n",
       "    .dataframe tbody tr th:only-of-type {\n",
       "        vertical-align: middle;\n",
       "    }\n",
       "\n",
       "    .dataframe tbody tr th {\n",
       "        vertical-align: top;\n",
       "    }\n",
       "\n",
       "    .dataframe thead th {\n",
       "        text-align: right;\n",
       "    }\n",
       "</style>\n",
       "<table border=\"1\" class=\"dataframe\">\n",
       "  <thead>\n",
       "    <tr style=\"text-align: right;\">\n",
       "      <th></th>\n",
       "      <th>bill_length_mm</th>\n",
       "      <th>bill_depth_mm</th>\n",
       "      <th>flipper_length_mm</th>\n",
       "      <th>body_mass_g</th>\n",
       "    </tr>\n",
       "    <tr>\n",
       "      <th>island</th>\n",
       "      <th></th>\n",
       "      <th></th>\n",
       "      <th></th>\n",
       "      <th></th>\n",
       "    </tr>\n",
       "  </thead>\n",
       "  <tbody>\n",
       "    <tr>\n",
       "      <th>Biscoe</th>\n",
       "      <td>45.257485</td>\n",
       "      <td>15.874850</td>\n",
       "      <td>209.706587</td>\n",
       "      <td>4716.017964</td>\n",
       "    </tr>\n",
       "    <tr>\n",
       "      <th>Dream</th>\n",
       "      <td>44.167742</td>\n",
       "      <td>18.344355</td>\n",
       "      <td>193.072581</td>\n",
       "      <td>3712.903226</td>\n",
       "    </tr>\n",
       "    <tr>\n",
       "      <th>Torgersen</th>\n",
       "      <td>38.950980</td>\n",
       "      <td>18.429412</td>\n",
       "      <td>191.196078</td>\n",
       "      <td>3706.372549</td>\n",
       "    </tr>\n",
       "  </tbody>\n",
       "</table>\n",
       "</div>"
      ],
      "text/plain": [
       "           bill_length_mm  bill_depth_mm  flipper_length_mm  body_mass_g\n",
       "island                                                                  \n",
       "Biscoe          45.257485      15.874850         209.706587  4716.017964\n",
       "Dream           44.167742      18.344355         193.072581  3712.903226\n",
       "Torgersen       38.950980      18.429412         191.196078  3706.372549"
      ]
     },
     "execution_count": 12,
     "metadata": {},
     "output_type": "execute_result"
    }
   ],
   "source": [
    "penguins.groupby([\"island\"]).mean()"
   ]
  },
  {
   "cell_type": "markdown",
   "id": "7339b68e-b107-4ad1-bcb5-656948f5c5fb",
   "metadata": {},
   "source": [
    "De bill length zit er vooral verschil tussen de Dream en Torgersen. terwijl bij de diepte, flipper lengte, en body mass is er juist een verschil tussen Dream en Torgersen en de Biscoe."
   ]
  },
  {
   "cell_type": "code",
   "execution_count": 13,
   "id": "04018af4-5226-469a-ac3e-a567ca4c0216",
   "metadata": {},
   "outputs": [
    {
     "data": {
      "text/plain": [
       "<AxesSubplot:xlabel='island', ylabel='bill_length_mm'>"
      ]
     },
     "execution_count": 13,
     "metadata": {},
     "output_type": "execute_result"
    },
    {
     "data": {
      "image/png": "[encoded data removed]",
      "text/plain": [
       "<Figure size 432x288 with 1 Axes>"
      ]
     },
     "metadata": {
      "needs_background": "light"
     },
     "output_type": "display_data"
    }
   ],
   "source": [
    "sns.barplot(y=\"bill_length_mm\", x=\"island\", data=penguins)"
   ]
  },
  {
   "cell_type": "code",
   "execution_count": 14,
   "id": "5af4ad78-1d28-4d51-9ab6-c6e2b34fe870",
   "metadata": {},
   "outputs": [
    {
     "data": {
      "text/plain": [
       "<AxesSubplot:xlabel='island', ylabel='bill_depth_mm'>"
      ]
     },
     "execution_count": 14,
     "metadata": {},
     "output_type": "execute_result"
    },
    {
     "data": {
      "image/png": "[encoded data removed]",
      "text/plain": [
       "<Figure size 432x288 with 1 Axes>"
      ]
     },
     "metadata": {
      "needs_background": "light"
     },
     "output_type": "display_data"
    }
   ],
   "source": [
    "sns.barplot(y=\"bill_depth_mm\", x=\"island\", data=penguins)"
   ]
  },
  {
   "cell_type": "code",
   "execution_count": 15,
   "id": "fcf1ce7a-1220-4be8-b216-70059c4be97d",
   "metadata": {},
   "outputs": [
    {
     "data": {
      "text/plain": [
       "<AxesSubplot:xlabel='island', ylabel='flipper_length_mm'>"
      ]
     },
     "execution_count": 15,
     "metadata": {},
     "output_type": "execute_result"
    },
    {
     "data": {
      "image/png": "[encoded data removed]",
      "text/plain": [
       "<Figure size 432x288 with 1 Axes>"
      ]
     },
     "metadata": {
      "needs_background": "light"
     },
     "output_type": "display_data"
    }
   ],
   "source": [
    "sns.barplot(y=\"flipper_length_mm\", x=\"island\", data=penguins)"
   ]
  },
  {
   "cell_type": "code",
   "execution_count": 16,
   "id": "c9c9157d-a26a-4a04-8c25-95e3f96197d3",
   "metadata": {},
   "outputs": [
    {
     "data": {
      "text/plain": [
       "<AxesSubplot:xlabel='island', ylabel='body_mass_g'>"
      ]
     },
     "execution_count": 16,
     "metadata": {},
     "output_type": "execute_result"
    },
    {
     "data": {
      "image/png": "[encoded data removed]",
      "text/plain": [
       "<Figure size 432x288 with 1 Axes>"
      ]
     },
     "metadata": {
      "needs_background": "light"
     },
     "output_type": "display_data"
    }
   ],
   "source": [
    "sns.barplot(y=\"body_mass_g\", x=\"island\", data=penguins)"
   ]
  },
  {
   "cell_type": "markdown",
   "id": "66248e43-bbb7-48ae-b824-7083c938fb4a",
   "metadata": {},
   "source": [
    "## Portfolio assignment 12\n",
    "30 min: Perform a bivariate analysis on at least 3 combinations of a numerical column with a categorical column in the dataset that you chose in portfolio assignment 4. Use .groupby('columnname').mean() to calculate the means. Is there a difference between categories? Then use seaborn barplots to check if there is a statistically significant difference."
   ]
  },
  {
   "cell_type": "code",
   "execution_count": 36,
   "id": "6363d65f-41aa-46d7-8182-ce244e2f286f",
   "metadata": {},
   "outputs": [
    {
     "data": {
      "text/html": [
       "<div>\n",
       "<style scoped>\n",
       "    .dataframe tbody tr th:only-of-type {\n",
       "        vertical-align: middle;\n",
       "    }\n",
       "\n",
       "    .dataframe tbody tr th {\n",
       "        vertical-align: top;\n",
       "    }\n",
       "\n",
       "    .dataframe thead th {\n",
       "        text-align: right;\n",
       "    }\n",
       "</style>\n",
       "<table border=\"1\" class=\"dataframe\">\n",
       "  <thead>\n",
       "    <tr style=\"text-align: right;\">\n",
       "      <th></th>\n",
       "      <th>Name</th>\n",
       "      <th>Club</th>\n",
       "      <th>Nationality</th>\n",
       "      <th>Position</th>\n",
       "      <th>Age</th>\n",
       "      <th>Matches</th>\n",
       "      <th>Starts</th>\n",
       "      <th>Mins</th>\n",
       "      <th>Goals</th>\n",
       "      <th>Assists</th>\n",
       "      <th>Passes_Attempted</th>\n",
       "      <th>Perc_Passes_Completed</th>\n",
       "      <th>Penalty_Goals</th>\n",
       "      <th>Penalty_Attempted</th>\n",
       "      <th>xG</th>\n",
       "      <th>xA</th>\n",
       "      <th>Yellow_Cards</th>\n",
       "      <th>Red_Cards</th>\n",
       "    </tr>\n",
       "  </thead>\n",
       "  <tbody>\n",
       "    <tr>\n",
       "      <th>0</th>\n",
       "      <td>Mason Mount</td>\n",
       "      <td>Chelsea</td>\n",
       "      <td>ENG</td>\n",
       "      <td>MF</td>\n",
       "      <td>21</td>\n",
       "      <td>36</td>\n",
       "      <td>32</td>\n",
       "      <td>2890</td>\n",
       "      <td>6</td>\n",
       "      <td>5</td>\n",
       "      <td>1881</td>\n",
       "      <td>82.3</td>\n",
       "      <td>1</td>\n",
       "      <td>1</td>\n",
       "      <td>0.21</td>\n",
       "      <td>0.24</td>\n",
       "      <td>2</td>\n",
       "      <td>0</td>\n",
       "    </tr>\n",
       "    <tr>\n",
       "      <th>1</th>\n",
       "      <td>Edouard Mendy</td>\n",
       "      <td>Chelsea</td>\n",
       "      <td>SEN</td>\n",
       "      <td>GK</td>\n",
       "      <td>28</td>\n",
       "      <td>31</td>\n",
       "      <td>31</td>\n",
       "      <td>2745</td>\n",
       "      <td>0</td>\n",
       "      <td>0</td>\n",
       "      <td>1007</td>\n",
       "      <td>84.6</td>\n",
       "      <td>0</td>\n",
       "      <td>0</td>\n",
       "      <td>0.00</td>\n",
       "      <td>0.00</td>\n",
       "      <td>2</td>\n",
       "      <td>0</td>\n",
       "    </tr>\n",
       "    <tr>\n",
       "      <th>2</th>\n",
       "      <td>Timo Werner</td>\n",
       "      <td>Chelsea</td>\n",
       "      <td>GER</td>\n",
       "      <td>FW</td>\n",
       "      <td>24</td>\n",
       "      <td>35</td>\n",
       "      <td>29</td>\n",
       "      <td>2602</td>\n",
       "      <td>6</td>\n",
       "      <td>8</td>\n",
       "      <td>826</td>\n",
       "      <td>77.2</td>\n",
       "      <td>0</td>\n",
       "      <td>0</td>\n",
       "      <td>0.41</td>\n",
       "      <td>0.21</td>\n",
       "      <td>2</td>\n",
       "      <td>0</td>\n",
       "    </tr>\n",
       "    <tr>\n",
       "      <th>3</th>\n",
       "      <td>Ben Chilwell</td>\n",
       "      <td>Chelsea</td>\n",
       "      <td>ENG</td>\n",
       "      <td>DF</td>\n",
       "      <td>23</td>\n",
       "      <td>27</td>\n",
       "      <td>27</td>\n",
       "      <td>2286</td>\n",
       "      <td>3</td>\n",
       "      <td>5</td>\n",
       "      <td>1806</td>\n",
       "      <td>78.6</td>\n",
       "      <td>0</td>\n",
       "      <td>0</td>\n",
       "      <td>0.10</td>\n",
       "      <td>0.11</td>\n",
       "      <td>3</td>\n",
       "      <td>0</td>\n",
       "    </tr>\n",
       "    <tr>\n",
       "      <th>4</th>\n",
       "      <td>Reece James</td>\n",
       "      <td>Chelsea</td>\n",
       "      <td>ENG</td>\n",
       "      <td>DF</td>\n",
       "      <td>20</td>\n",
       "      <td>32</td>\n",
       "      <td>25</td>\n",
       "      <td>2373</td>\n",
       "      <td>1</td>\n",
       "      <td>2</td>\n",
       "      <td>1987</td>\n",
       "      <td>85.0</td>\n",
       "      <td>0</td>\n",
       "      <td>0</td>\n",
       "      <td>0.06</td>\n",
       "      <td>0.12</td>\n",
       "      <td>3</td>\n",
       "      <td>0</td>\n",
       "    </tr>\n",
       "  </tbody>\n",
       "</table>\n",
       "</div>"
      ],
      "text/plain": [
       "            Name     Club Nationality Position  Age  Matches  Starts  Mins  \\\n",
       "0    Mason Mount  Chelsea         ENG       MF   21       36      32  2890   \n",
       "1  Edouard Mendy  Chelsea         SEN       GK   28       31      31  2745   \n",
       "2    Timo Werner  Chelsea         GER       FW   24       35      29  2602   \n",
       "3   Ben Chilwell  Chelsea         ENG       DF   23       27      27  2286   \n",
       "4    Reece James  Chelsea         ENG       DF   20       32      25  2373   \n",
       "\n",
       "   Goals  Assists  Passes_Attempted  Perc_Passes_Completed  Penalty_Goals  \\\n",
       "0      6        5              1881                   82.3              1   \n",
       "1      0        0              1007                   84.6              0   \n",
       "2      6        8               826                   77.2              0   \n",
       "3      3        5              1806                   78.6              0   \n",
       "4      1        2              1987                   85.0              0   \n",
       "\n",
       "   Penalty_Attempted    xG    xA  Yellow_Cards  Red_Cards  \n",
       "0                  1  0.21  0.24             2          0  \n",
       "1                  0  0.00  0.00             2          0  \n",
       "2                  0  0.41  0.21             2          0  \n",
       "3                  0  0.10  0.11             3          0  \n",
       "4                  0  0.06  0.12             3          0  "
      ]
     },
     "execution_count": 36,
     "metadata": {},
     "output_type": "execute_result"
    }
   ],
   "source": [
    "\n",
    "PremStats['Position'] = PremStats['Position'].replace(['MF,DF', 'MF,FW'],'MF')\n",
    "PremStats['Position'] = PremStats['Position'].replace(['FW,MF', 'FW,DF'],'FW')\n",
    "PremStats['Position'] = PremStats['Position'].replace(['DF,MF', 'DF,FW'],'DF')\n",
    "PremStats.head()"
   ]
  },
  {
   "cell_type": "markdown",
   "id": "e9562627-a474-4f4b-8615-e7b88031e862",
   "metadata": {},
   "source": [
    "Ik heb hier boven de posities aangepast om deze representatiever te maken en dus hun primaire positie te nemen i.p.v meerderen"
   ]
  },
  {
   "cell_type": "code",
   "execution_count": 37,
   "id": "6b4db559-4df2-457f-a198-41c5dbdf138e",
   "metadata": {},
   "outputs": [
    {
     "data": {
      "text/html": [
       "<div>\n",
       "<style scoped>\n",
       "    .dataframe tbody tr th:only-of-type {\n",
       "        vertical-align: middle;\n",
       "    }\n",
       "\n",
       "    .dataframe tbody tr th {\n",
       "        vertical-align: top;\n",
       "    }\n",
       "\n",
       "    .dataframe thead th {\n",
       "        text-align: right;\n",
       "    }\n",
       "</style>\n",
       "<table border=\"1\" class=\"dataframe\">\n",
       "  <thead>\n",
       "    <tr style=\"text-align: right;\">\n",
       "      <th></th>\n",
       "      <th>Age</th>\n",
       "      <th>Matches</th>\n",
       "      <th>Starts</th>\n",
       "      <th>Mins</th>\n",
       "      <th>Goals</th>\n",
       "      <th>Assists</th>\n",
       "      <th>Passes_Attempted</th>\n",
       "      <th>Perc_Passes_Completed</th>\n",
       "      <th>Penalty_Goals</th>\n",
       "      <th>Penalty_Attempted</th>\n",
       "      <th>xG</th>\n",
       "      <th>xA</th>\n",
       "      <th>Yellow_Cards</th>\n",
       "      <th>Red_Cards</th>\n",
       "    </tr>\n",
       "    <tr>\n",
       "      <th>Position</th>\n",
       "      <th></th>\n",
       "      <th></th>\n",
       "      <th></th>\n",
       "      <th></th>\n",
       "      <th></th>\n",
       "      <th></th>\n",
       "      <th></th>\n",
       "      <th></th>\n",
       "      <th></th>\n",
       "      <th></th>\n",
       "      <th></th>\n",
       "      <th></th>\n",
       "      <th></th>\n",
       "      <th></th>\n",
       "    </tr>\n",
       "  </thead>\n",
       "  <tbody>\n",
       "    <tr>\n",
       "      <th>DF</th>\n",
       "      <td>25.713568</td>\n",
       "      <td>18.236181</td>\n",
       "      <td>16.467337</td>\n",
       "      <td>1473.723618</td>\n",
       "      <td>0.718593</td>\n",
       "      <td>0.783920</td>\n",
       "      <td>890.814070</td>\n",
       "      <td>80.262312</td>\n",
       "      <td>0.005025</td>\n",
       "      <td>0.005025</td>\n",
       "      <td>0.045075</td>\n",
       "      <td>0.041658</td>\n",
       "      <td>2.452261</td>\n",
       "      <td>0.135678</td>\n",
       "    </tr>\n",
       "    <tr>\n",
       "      <th>FW</th>\n",
       "      <td>24.950617</td>\n",
       "      <td>19.753086</td>\n",
       "      <td>14.061728</td>\n",
       "      <td>1277.790123</td>\n",
       "      <td>5.456790</td>\n",
       "      <td>2.123457</td>\n",
       "      <td>384.037037</td>\n",
       "      <td>72.438272</td>\n",
       "      <td>0.592593</td>\n",
       "      <td>0.666667</td>\n",
       "      <td>0.303704</td>\n",
       "      <td>0.114074</td>\n",
       "      <td>1.234568</td>\n",
       "      <td>0.061728</td>\n",
       "    </tr>\n",
       "    <tr>\n",
       "      <th>GK</th>\n",
       "      <td>28.190476</td>\n",
       "      <td>18.214286</td>\n",
       "      <td>18.095238</td>\n",
       "      <td>1628.500000</td>\n",
       "      <td>0.023810</td>\n",
       "      <td>0.047619</td>\n",
       "      <td>568.547619</td>\n",
       "      <td>69.119048</td>\n",
       "      <td>0.000000</td>\n",
       "      <td>0.000000</td>\n",
       "      <td>0.000000</td>\n",
       "      <td>0.001905</td>\n",
       "      <td>0.738095</td>\n",
       "      <td>0.023810</td>\n",
       "    </tr>\n",
       "    <tr>\n",
       "      <th>MF</th>\n",
       "      <td>24.971429</td>\n",
       "      <td>20.947619</td>\n",
       "      <td>15.161905</td>\n",
       "      <td>1360.566667</td>\n",
       "      <td>1.904762</td>\n",
       "      <td>1.690476</td>\n",
       "      <td>712.309524</td>\n",
       "      <td>79.331429</td>\n",
       "      <td>0.252381</td>\n",
       "      <td>0.333333</td>\n",
       "      <td>0.127143</td>\n",
       "      <td>0.100190</td>\n",
       "      <td>2.409524</td>\n",
       "      <td>0.071429</td>\n",
       "    </tr>\n",
       "  </tbody>\n",
       "</table>\n",
       "</div>"
      ],
      "text/plain": [
       "                Age    Matches     Starts         Mins     Goals   Assists  \\\n",
       "Position                                                                     \n",
       "DF        25.713568  18.236181  16.467337  1473.723618  0.718593  0.783920   \n",
       "FW        24.950617  19.753086  14.061728  1277.790123  5.456790  2.123457   \n",
       "GK        28.190476  18.214286  18.095238  1628.500000  0.023810  0.047619   \n",
       "MF        24.971429  20.947619  15.161905  1360.566667  1.904762  1.690476   \n",
       "\n",
       "          Passes_Attempted  Perc_Passes_Completed  Penalty_Goals  \\\n",
       "Position                                                           \n",
       "DF              890.814070              80.262312       0.005025   \n",
       "FW              384.037037              72.438272       0.592593   \n",
       "GK              568.547619              69.119048       0.000000   \n",
       "MF              712.309524              79.331429       0.252381   \n",
       "\n",
       "          Penalty_Attempted        xG        xA  Yellow_Cards  Red_Cards  \n",
       "Position                                                                  \n",
       "DF                 0.005025  0.045075  0.041658      2.452261   0.135678  \n",
       "FW                 0.666667  0.303704  0.114074      1.234568   0.061728  \n",
       "GK                 0.000000  0.000000  0.001905      0.738095   0.023810  \n",
       "MF                 0.333333  0.127143  0.100190      2.409524   0.071429  "
      ]
     },
     "execution_count": 37,
     "metadata": {},
     "output_type": "execute_result"
    }
   ],
   "source": [
    "PremStats.groupby(['Position']).mean()\n",
    "    "
   ]
  },
  {
   "cell_type": "code",
   "execution_count": 38,
   "id": "f436ba41-d905-44b2-b89f-227597d17db7",
   "metadata": {},
   "outputs": [
    {
     "data": {
      "text/plain": [
       "<AxesSubplot:xlabel='Position', ylabel='Age'>"
      ]
     },
     "execution_count": 38,
     "metadata": {},
     "output_type": "execute_result"
    },
    {
     "data": {
      "image/png": "[encoded data removed]",
      "text/plain": [
       "<Figure size 432x288 with 1 Axes>"
      ]
     },
     "metadata": {
      "needs_background": "light"
     },
     "output_type": "display_data"
    }
   ],
   "source": [
    "sns.barplot(y=\"Age\", x=\"Position\", data=PremStats)"
   ]
  },
  {
   "cell_type": "code",
   "execution_count": 39,
   "id": "2d733943-337b-4c72-934c-c08236938be5",
   "metadata": {},
   "outputs": [
    {
     "data": {
      "text/plain": [
       "<AxesSubplot:xlabel='Position', ylabel='Goals'>"
      ]
     },
     "execution_count": 39,
     "metadata": {},
     "output_type": "execute_result"
    },
    {
     "data": {
      "image/png": "[encoded data removed]",
      "text/plain": [
       "<Figure size 432x288 with 1 Axes>"
      ]
     },
     "metadata": {
      "needs_background": "light"
     },
     "output_type": "display_data"
    }
   ],
   "source": [
    "sns.barplot(y=\"Goals\", x=\"Position\", data=PremStats)"
   ]
  },
  {
   "cell_type": "code",
   "execution_count": 40,
   "id": "505a5393-df4f-469d-af1b-2dc982140a0f",
   "metadata": {},
   "outputs": [
    {
     "data": {
      "text/plain": [
       "<AxesSubplot:xlabel='Position', ylabel='Yellow_Cards'>"
      ]
     },
     "execution_count": 40,
     "metadata": {},
     "output_type": "execute_result"
    },
    {
     "data": {
      "image/png": "[encoded data removed]",
      "text/plain": [
       "<Figure size 432x288 with 1 Axes>"
      ]
     },
     "metadata": {
      "needs_background": "light"
     },
     "output_type": "display_data"
    }
   ],
   "source": [
    "sns.barplot(y=\"Yellow_Cards\", x=\"Position\", data=PremStats)"
   ]
  },
  {
   "cell_type": "markdown",
   "id": "ea6316a4-b7eb-4b9a-829a-bb752404350b",
   "metadata": {},
   "source": [
    "Bij de leeftijd zie je een licht verschil vooral bij de keepers die redelijk ouder zijn. Verdedigers ook licht maar niet heel veel.\n",
    "\n",
    "De goals is er een duidelijk verschil tussen de aanvallers die er boven uit steken. Middevelders steken ook nog boven de verdedigers uit maar die zakken heel laag met de keepers nog veel lager.\n",
    "\n",
    "Bij de gele kaarten is juist te zien dat middevelders en Verdedigers deze vooral veel hebben en ongeveer het zelfde aantal. Daarnaast een stuk minder kaarten voor aanvallers en keepers."
   ]
  },
  {
   "cell_type": "code",
   "execution_count": 41,
   "id": "90e98cd7-f621-46a2-946e-662bffb5db2e",
   "metadata": {},
   "outputs": [
    {
     "data": {
      "text/plain": [
       "<AxesSubplot:xlabel='Club', ylabel='Age'>"
      ]
     },
     "execution_count": 41,
     "metadata": {},
     "output_type": "execute_result"
    },
    {
     "data": {
      "image/png": "[encoded data removed]",
      "text/plain": [
       "<Figure size 432x288 with 1 Axes>"
      ]
     },
     "metadata": {
      "needs_background": "light"
     },
     "output_type": "display_data"
    }
   ],
   "source": [
    "sns.barplot(y=\"Age\", x=\"Club\", data=PremStats)"
   ]
  },
  {
   "cell_type": "code",
   "execution_count": null,
   "id": "a4ffcbb7-3f55-46ea-aa7e-052040d9e9b6",
   "metadata": {},
   "outputs": [],
   "source": []
  },
  {
   "cell_type": "code",
   "execution_count": null,
   "id": "11b88b15-32de-4cec-bb6d-ee8e27f150d9",
   "metadata": {},
   "outputs": [],
   "source": []
  }
 ],
 "metadata": {
  "kernelspec": {
   "display_name": "Python 3 (ipykernel)",
   "language": "python",
   "name": "python3"
  },
  "language_info": {
   "codemirror_mode": {
    "name": "ipython",
    "version": 3
   },
   "file_extension": ".py",
   "mimetype": "text/x-python",
   "name": "python",
   "nbconvert_exporter": "python",
   "pygments_lexer": "ipython3",
   "version": "3.9.7"
  }
 },
 "nbformat": 4,
 "nbformat_minor": 5
}
